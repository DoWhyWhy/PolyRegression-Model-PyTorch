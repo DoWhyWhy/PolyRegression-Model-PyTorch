
{
 "cells": [
  {
   "cell_type": "markdown",
   "metadata": {},
   "source": [
    "# Polynomial Regression Using PyTorch (From Scratch)"
   ]
  },
  {
   "cell_type": "markdown",
   "metadata": {},
   "source": [
    "When it comes to predictive analysis, regression models prove out to be on of the most cost efficient methods. While the linear regression model can provide some good predictions too, the polynomial regression sometimes proves out to perform better in certain situations over the linear regression models."
   ]
  },
  {