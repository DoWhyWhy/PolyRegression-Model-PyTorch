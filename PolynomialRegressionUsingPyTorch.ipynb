
{
 "cells": [
  {
   "cell_type": "markdown",
   "metadata": {},
   "source": [
    "# Polynomial Regression Using PyTorch (From Scratch)"
   ]
  },
  {
   "cell_type": "markdown",
   "metadata": {},
   "source": [
    "When it comes to predictive analysis, regression models prove out to be on of the most cost efficient methods. While the linear regression model can provide some good predictions too, the polynomial regression sometimes proves out to perform better in certain situations over the linear regression models."
   ]
  },
  {
   "cell_type": "markdown",
   "metadata": {},
   "source": [
    "## Project Objectives\n",
    "\n",
    "- Implementation of a machine learning model in **PyTorch** that uses the Polynomial Regression algorithm to make predictions.\n",
    "\n",
    "We will create the model entirely from scratch, using basic PyTorch tensor operations.\n",
    "\n",
    "- Using the model to conduct a predictive analysis of automobile price. At the end of the project, we aim at developing a highly efficient ML model that can predict the price of a car on the basis of its features.\n",
    "\n",
    "- Performing visual & descriptive analysis of the data to predict which features play a key role in determining the price of a car."
   ]
  },
  {
   "cell_type": "markdown",
   "metadata": {},
   "source": [
    "## Importing the Project Dependencies\n",
    "\n",
    "Before we begin working on the project, let us import all the necessary libraries and functions."
   ]
  },
  {
   "cell_type": "code",
   "execution_count": 140,
   "metadata": {},
   "outputs": [],
   "source": [
    "import torch\n",
    "import numpy as np\n",
    "import pandas as pd\n",
    "import matplotlib.pyplot as plt\n",
    "import seaborn as sns"
   ]
  },
  {